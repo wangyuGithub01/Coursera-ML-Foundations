{
 "cells": [
  {
   "cell_type": "code",
   "execution_count": 97,
   "metadata": {},
   "outputs": [
    {
     "name": "stdout",
     "output_type": "stream",
     "text": [
      "update: 45\n"
     ]
    }
   ],
   "source": [
    "import pandas as pd\n",
    "import numpy as np\n",
    "import random\n",
    "\n",
    "def load_data(filename):\n",
    "    data = pd.read_csv(filename,header=None)\n",
    "    y = data[4].values\n",
    "    data = data.drop(columns=[4])\n",
    "    data[4] = [1]*len(data)\n",
    "    matrix = np.array(data.values)\n",
    "    return matrix, y\n",
    "\n",
    "def sign(x):\n",
    "    if x==0:\n",
    "        return -1\n",
    "    elif x>0:\n",
    "        return 1\n",
    "    else:\n",
    "        return -1\n",
    "    \n",
    "def PLA(x,y): #'''Q15''' \n",
    "    w = np.array([0,0,0,0,0])\n",
    "    update = 0\n",
    "    flag = False\n",
    "    while (not flag):\n",
    "        for idx,row in enumerate(x):\n",
    "            s = sign(sum( w * row ))\n",
    "            if s!=sign(y[idx]):\n",
    "                update += 1\n",
    "                w = w + y[idx]*row\n",
    "        flag = check(x,y,w)\n",
    "        \n",
    "            \n",
    "    print('update:',update)\n",
    "    return w\n",
    "\n",
    "def check(x,y,w):\n",
    "    wrong = 0\n",
    "    for idx,row in enumerate(x):\n",
    "        s = sign(sum( w * row ))\n",
    "        if s!=sign(y[idx]):\n",
    "            wrong += 1\n",
    "#     print('wrong:' , wrong)\n",
    "    if wrong>0:\n",
    "        return False\n",
    "    else:\n",
    "        return True\n",
    "\n",
    "matrix, y = load_data('hw1_15_train.csv')\n",
    "w = PLA(matrix,y)"
   ]
  },
  {
   "cell_type": "code",
   "execution_count": 34,
   "metadata": {},
   "outputs": [
    {
     "name": "stdout",
     "output_type": "stream",
     "text": [
      "40.023\n"
     ]
    }
   ],
   "source": [
    "# Q16\n",
    "def rand_PLA(x,y): # '''Q16''' \n",
    "    order = random.sample(range(len(x)), len(x))\n",
    "    w = np.array([0,0,0,0,0])\n",
    "    update = 0\n",
    "    flag = False\n",
    "    while (not flag):\n",
    "        for i in order:\n",
    "            s = sign(sum( w * x[i] ))\n",
    "            if s!=sign(y[i]):\n",
    "                update += 1\n",
    "                w = w + y[i]*x[i]\n",
    "        flag = check(x,y,w)\n",
    "        \n",
    "            \n",
    "#     print('update:',update)\n",
    "    return w, update\n",
    "\n",
    "sum_upd = 0\n",
    "for i in range(2000):\n",
    "    w, upd = rand_PLA(matrix,y)\n",
    "    sum_upd += upd\n",
    "print(sum_upd/2000)"
   ]
  },
  {
   "cell_type": "code",
   "execution_count": 36,
   "metadata": {},
   "outputs": [
    {
     "name": "stdout",
     "output_type": "stream",
     "text": [
      "40.0775\n"
     ]
    }
   ],
   "source": [
    "def rand_PLA_lr(x,y,lr=0.5): # '''Q17''' \n",
    "    order = random.sample(range(len(x)), len(x))\n",
    "    w = np.array([0,0,0,0,0])\n",
    "    update = 0\n",
    "    flag = False\n",
    "    while (not flag):\n",
    "        for i in order:\n",
    "            s = sign(sum( w * x[i] ))\n",
    "            if s!=sign(y[i]):\n",
    "                update += 1\n",
    "                w = w + y[i]*x[i]*lr\n",
    "        flag = check(x,y,w)\n",
    "        \n",
    "            \n",
    "#     print('update:',update)\n",
    "    return w, update\n",
    "\n",
    "sum_upd = 0\n",
    "for i in range(2000):\n",
    "    w, upd = rand_PLA_lr(matrix,y)\n",
    "    sum_upd += upd\n",
    "print(sum_upd/2000)"
   ]
  },
  {
   "cell_type": "markdown",
   "metadata": {},
   "source": [
    "## Question 18"
   ]
  },
  {
   "cell_type": "code",
   "execution_count": 92,
   "metadata": {},
   "outputs": [],
   "source": [
    "import copy\n",
    "x_train, y_train = load_data('hw1_18_train.csv')\n",
    "x_test, y_test = load_data('hw1_18_test.csv')\n",
    "# print(y_train)"
   ]
  },
  {
   "cell_type": "code",
   "execution_count": 99,
   "metadata": {},
   "outputs": [
    {
     "name": "stdout",
     "output_type": "stream",
     "text": [
      "0.13193299999999974\n"
     ]
    }
   ],
   "source": [
    "def verify(x,y,w):\n",
    "    wrong = 0\n",
    "    for idx,row in enumerate(x):\n",
    "        s = sign(sum( w * row ))\n",
    "        if s!=sign(y[idx]):\n",
    "            wrong += 1\n",
    "#     print('wrong:' , wrong)\n",
    "    return wrong/len(y)\n",
    "    \n",
    "def pocket(x_train, y_train,x_test, y_test): # 18\n",
    "    w = np.array([0,0,0,0,0])\n",
    "    update = 0\n",
    "    w_pocket = np.array([0,0,0,0,0])\n",
    "    err_pk = verify(x_train,y_train,w_pocket)\n",
    "    \n",
    "    \n",
    "    order = random.sample(range(len(x_train)),len(x_train))\n",
    "    \n",
    "    j = 0\n",
    "    while update < 50:\n",
    "        i = order[j]\n",
    "#             s = sign( sum( w * x_train[i]))\n",
    "        if sum( w * x_train[i]) * y_train[i]<=0:\n",
    "            w = w + y_train[i]*x_train[i]\n",
    "            update += 1\n",
    "            err_new = verify(x_train,y_train,w)\n",
    "\n",
    "            if err_new < err_pk:\n",
    "                w_pocket = w.copy()\n",
    "                err_pk = err_new\n",
    "            error_test = verify(x_test,y_test,w_pocket)\n",
    "#             print('train err:{}, test err:{},update:{}'.format(err_pk,error_test,update))\n",
    "\n",
    "\n",
    "        if j==len(x_train)-1:\n",
    "            j = 0\n",
    "        else:\n",
    "            j += 1\n",
    "#     print('pocket',pocket)\n",
    "    error_test = verify(x_test,y_test,w_pocket)\n",
    "    return error_test\n",
    "\n",
    "sum_err = 0\n",
    "for i in range(2000):\n",
    "    err = pocket(x_train, y_train,x_test, y_test)\n",
    "    sum_err += err\n",
    "print(sum_err/2000)\n",
    "    "
   ]
  },
  {
   "cell_type": "markdown",
   "metadata": {},
   "source": [
    "## Q19"
   ]
  },
  {
   "cell_type": "code",
   "execution_count": 100,
   "metadata": {},
   "outputs": [
    {
     "name": "stdout",
     "output_type": "stream",
     "text": [
      "0.35157000000000027\n"
     ]
    }
   ],
   "source": [
    "def wo_pocket(x_train, y_train,x_test, y_test): # '''Q19''' \n",
    "    w = np.array([0,0,0,0,0]) \n",
    "    update = 0\n",
    "    while update < 50:\n",
    "        \n",
    "        i = random.sample(range(len(x_train)),1)[0]\n",
    "        s = sign( sum( w * x_train[i]))\n",
    "        if s!=sign(y_train[i]):\n",
    "            update += 1\n",
    "            w = w + y_train[i]*x_train[i]\n",
    "            \n",
    "    error = verify(x_test,y_test,w)\n",
    "        \n",
    "            \n",
    "#     print('update:',update)\n",
    "    return error\n",
    "sum_err = 0\n",
    "for i in range(2000):\n",
    "    err = wo_pocket(x_train, y_train,x_test, y_test)\n",
    "    sum_err += err\n",
    "print(sum_err/2000)\n",
    "    "
   ]
  },
  {
   "cell_type": "markdown",
   "metadata": {},
   "source": [
    "## Q20"
   ]
  },
  {
   "cell_type": "code",
   "execution_count": null,
   "metadata": {},
   "outputs": [],
   "source": [
    "def pocket_update(x_train, y_train,x_test, y_test,update_num=100): #'''Q20''' \n",
    "    w = np.array([0,0,0,0,0])\n",
    "    update = 0\n",
    "    w_pocket = np.array([0,0,0,0,0])\n",
    "    err_pk = verify(x_train,y_train,w_pocket)\n",
    "    \n",
    "    \n",
    "    order = random.sample(range(len(x_train)),len(x_train))\n",
    "    \n",
    "    j = 0\n",
    "    while update < 50:\n",
    "        i = order[j]\n",
    "#             s = sign( sum( w * x_train[i]))\n",
    "        if sum( w * x_train[i]) * y_train[i]<=0:\n",
    "            w = w + y_train[i]*x_train[i]\n",
    "            update += 1\n",
    "            err_new = verify(x_train,y_train,w)\n",
    "\n",
    "            if err_new < err_pk:\n",
    "                w_pocket = w.copy()\n",
    "                err_pk = err_new\n",
    "            error_test = verify(x_test,y_test,w_pocket)\n",
    "#             print('train err:{}, test err:{},update:{}'.format(err_pk,error_test,update))\n",
    "\n",
    "\n",
    "        if j==len(x_train)-1:\n",
    "            j = 0\n",
    "        else:\n",
    "            j += 1\n",
    "#     print('pocket',pocket)\n",
    "    error_test = verify(x_test,y_test,w_pocket)\n",
    "    return error_test\n",
    "\n",
    "sum_err = 0\n",
    "for i in range(200):\n",
    "    err = pocket_update(x_train, y_train,x_test, y_test)\n",
    "    sum_err += err\n",
    "print(sum_err/200)"
   ]
  },
  {
   "cell_type": "code",
   "execution_count": null,
   "metadata": {
    "collapsed": true
   },
   "outputs": [],
   "source": []
  }
 ],
 "metadata": {
  "kernelspec": {
   "display_name": "Python 3",
   "language": "python",
   "name": "python3"
  },
  "language_info": {
   "codemirror_mode": {
    "name": "ipython",
    "version": 3
   },
   "file_extension": ".py",
   "mimetype": "text/x-python",
   "name": "python",
   "nbconvert_exporter": "python",
   "pygments_lexer": "ipython3",
   "version": "3.6.2"
  }
 },
 "nbformat": 4,
 "nbformat_minor": 2
}
