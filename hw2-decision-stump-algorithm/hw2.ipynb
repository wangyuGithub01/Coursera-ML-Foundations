{
 "cells": [
  {
   "cell_type": "code",
   "execution_count": 43,
   "metadata": {
    "collapsed": true
   },
   "outputs": [],
   "source": [
    "import random\n",
    "import numpy as np\n",
    "import math"
   ]
  },
  {
   "cell_type": "code",
   "execution_count": 133,
   "metadata": {},
   "outputs": [],
   "source": [
    "# for Q17 & 18\n",
    "def generate(N=20,p=0.2):\n",
    "    noise = [1 for _ in range(int(N*(1-p)))] + [-1 for _ in range(round(p*N))]\n",
    "    np.random.shuffle(noise)\n",
    "    x = np.random.uniform(-1,1,N)\n",
    "    x = sorted(x)\n",
    "    y = np.sign(x)\n",
    "    return np.array(x), np.array(y)*noise\n",
    "def hypo(x,s,theta):\n",
    "    return s * np.sign(x - theta)\n",
    "def decision_stump_Ein(x,y,s,theta):\n",
    "    Ein = 0\n",
    "    for i in range(len(x)):\n",
    "        if hypo(x[i],s,theta) != y[i]:\n",
    "            Ein += 1\n",
    "    return Ein/len(x)\n",
    "def decision_stump_Eout(s, theta):\n",
    "    return 0.5 + 0.3 * s * (abs(theta) - 1)\n",
    "def decision_stump(x,y):\n",
    "#     print(x,y)\n",
    "    best_ein = float('inf')\n",
    "    best_s = 0\n",
    "    best_theta = 0\n",
    "    x_ext = point_list = [-1] + x + [1]\n",
    "    for theta in [(x_ext[i] + x_ext[i + 1]) /2 for i in range(len(x_ext) - 1)]:\n",
    "        for s in [-1,1]:\n",
    "            tmp_ein = decision_stump_Ein(x,y,s,theta)\n",
    "            if tmp_ein<best_ein:\n",
    "                best_ein = tmp_ein\n",
    "                best_s = s\n",
    "                best_theta = theta\n",
    "    return best_ein,best_s,best_theta\n",
    "def q17_18(the_iter=5000):\n",
    "    e_in_count = 0\n",
    "    e_out_count = 0\n",
    "    for i in range(the_iter):\n",
    "        x_d, y_d = generate()\n",
    "        e_in, s, theta = decision_stump(x_d, y_d)\n",
    "        e_in_count += e_in\n",
    "        e_out_count += decision_stump_Eout(s, theta)\n",
    "    arg_e_in = e_in_count / the_iter\n",
    "    arg_e_out = e_out_count / the_iter\n",
    "    return arg_e_in, arg_e_out"
   ]
  },
  {
   "cell_type": "code",
   "execution_count": 134,
   "metadata": {},
   "outputs": [
    {
     "data": {
      "text/plain": [
       "(0.17000000000000007, 0.2494436967995719)"
      ]
     },
     "execution_count": 134,
     "metadata": {},
     "output_type": "execute_result"
    }
   ],
   "source": [
    "q17_18(50)"
   ]
  },
  {
   "cell_type": "code",
   "execution_count": 168,
   "metadata": {},
   "outputs": [
    {
     "data": {
      "text/plain": [
       "(0.25, 0.355)"
      ]
     },
     "execution_count": 168,
     "metadata": {},
     "output_type": "execute_result"
    }
   ],
   "source": [
    "# for Q19 & 20\n",
    "def mul_decision_stump_Eout(x_test,s, theta,dim):\n",
    "    data = np.array(sorted(x_test, key=lambda x: x[dim]))\n",
    "    \n",
    "    e_out = decision_stump_Ein(x_test[:,dim],x_test[:,-1],s,theta)\n",
    "    \n",
    "    return e_out\n",
    "\n",
    "def load(filename):\n",
    "    data = []\n",
    "    y = []\n",
    "    with open(filename,'r') as f:\n",
    "        for line in f:\n",
    "            l = line.split(',')\n",
    "            d = [float(v) for v in l]\n",
    "            data.append(d[:-1])\n",
    "            y.append(d[-1])\n",
    "    return np.array(data),np.array(y)\n",
    "\n",
    "def load_all(filename):\n",
    "    data = []\n",
    "    with open(filename,'r') as f:\n",
    "        for line in f:\n",
    "            l = line.split(',')\n",
    "            d = [float(v) for v in l]\n",
    "            data.append(d)\n",
    "    return np.array(data)\n",
    "\n",
    "def multi_decision_stump(data):\n",
    "\n",
    "    ret_l = []  # [e_in, s, theta]\n",
    "    for i in range(len(data[0])-1):\n",
    "        sorted_data = np.array(sorted(data, key=lambda x: x[i]))\n",
    "        x = sorted_data[:,i]\n",
    "        y = sorted_data[:,len(data[0])-1]\n",
    "        ret_l.append(decision_stump(x,y))\n",
    "        \n",
    "    dim = ret_l.index(min(ret_l, key=lambda r: r[0]))\n",
    "    e_in, s, theta = ret_l[dim]\n",
    "    \n",
    "    return s, theta, e_in, dim\n",
    "\n",
    "def q19_20():\n",
    "    x = load_all('hw2_train.csv')\n",
    "    s, theta, e_in, dim = multi_decision_stump(x)\n",
    "\n",
    "    x_test = load_all('hw2_test.csv')\n",
    "#     print(x_test)\n",
    "    e_out = mul_decision_stump_Eout(x_test,s, theta,dim)\n",
    "\n",
    "    return e_in, e_out\n",
    "    \n",
    "q19_20()"
   ]
  },
  {
   "cell_type": "code",
   "execution_count": null,
   "metadata": {
    "collapsed": true
   },
   "outputs": [],
   "source": []
  },
  {
   "cell_type": "code",
   "execution_count": null,
   "metadata": {
    "collapsed": true
   },
   "outputs": [],
   "source": []
  }
 ],
 "metadata": {
  "kernelspec": {
   "display_name": "Python 3",
   "language": "python",
   "name": "python3"
  },
  "language_info": {
   "codemirror_mode": {
    "name": "ipython",
    "version": 3
   },
   "file_extension": ".py",
   "mimetype": "text/x-python",
   "name": "python",
   "nbconvert_exporter": "python",
   "pygments_lexer": "ipython3",
   "version": "3.6.2"
  }
 },
 "nbformat": 4,
 "nbformat_minor": 2
}
